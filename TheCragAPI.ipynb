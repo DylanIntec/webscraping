{
 "cells": [
  {
   "cell_type": "markdown",
   "source": [
    "# Web scraping The Crag\n",
    "The Crag is a platform for logging and detailing rock climbing areas and routes. The contect is user generated and well structured making it perfect for web-scraping. The page is fetched using Requests and parsed using Beautiful Soup. \n",
    "\n",
    "![pic](_images/thecrag.png)"
   ],
   "metadata": {}
  },
  {
   "cell_type": "code",
   "execution_count": 1,
   "source": [
    "import requests, bs4\n",
    "import pandas as pd\n",
    "from urllib.parse import urljoin\n",
    "import plotly.express as px"
   ],
   "outputs": [],
   "metadata": {}
  },
  {
   "cell_type": "markdown",
   "source": [
    "Data from every page needs to be feched from The Crag which is what this handy function does."
   ],
   "metadata": {}
  },
  {
   "cell_type": "code",
   "execution_count": 3,
   "source": [
    "def get_soup(url):\n",
    "    res = requests.get(url)\n",
    "    res.raise_for_status()\n",
    "    return bs4.BeautifulSoup(res.text, \"lxml\")"
   ],
   "outputs": [],
   "metadata": {}
  },
  {
   "cell_type": "markdown",
   "source": [
    "The data in The Crag is structured as:\n",
    "\n",
    "Country > States > Regions > Areas > Crags\n",
    "\n",
    "To start with we need a list of urls for every State in the Country and every Region in every state. These can both be achieved with the function below:\n",
    "\n",
    "Using the inspector in Chrome we can see that first we need to find all of the \"div\" ekements with the class \"area\". Then, for each area, the url is in the \"a\" element which has the class \"mappin located\". \n",
    "\n",
    "![img](_images/urlloc.png)\n",
    "\n"
   ],
   "metadata": {}
  },
  {
   "cell_type": "code",
   "execution_count": 2,
   "source": [
    "def get_urls(page_url):\n",
    "    link_list = []\n",
    "    soup = get_soup(page_url)\n",
    "    areas = soup.find_all(\"div\", {\"class\": \"area\"})\n",
    "    for area in areas:\n",
    "        try:\n",
    "            link = area.find('a', {\"class\": \"mappin located\"})['href']\n",
    "        except TypeError:\n",
    "            continue\n",
    "\n",
    "        guide = urljoin('https://www.thecrag.com', link)\n",
    "        link_list.append(urljoin(guide, ' ').strip())\n",
    "    return link_list"
   ],
   "outputs": [],
   "metadata": {}
  },
  {
   "cell_type": "markdown",
   "source": [
    "For each crag we need:\n",
    "* Name\n",
    "* Number of routes\n",
    "* URL\n",
    "* Latitude\n",
    "* Longitude\n",
    "\n",
    "The name and number of routes can be found from the correct elements and the URL can be founf from the same method as before.\n",
    "\n",
    "The GPS co-ordinates are in a seperate guide page for the crag. This function gets that page and searches for 'Lat / Long:' in every <p> element. Once found the coordinates are returned."
   ],
   "metadata": {}
  },
  {
   "cell_type": "code",
   "execution_count": 4,
   "source": [
    "def get_lat_long(full_url):\n",
    "    guide = urljoin(full_url, 'guide')\n",
    "    soup_lat = get_soup(guide)\n",
    "    a = None\n",
    "    for p in soup_lat.find_all('p'):\n",
    "        if 'Lat / Long:' in p.text:\n",
    "            a = p\n",
    "    return a.text.split(':')[1].split(',') if a else [None, None]"
   ],
   "outputs": [],
   "metadata": {}
  },
  {
   "cell_type": "code",
   "execution_count": 5,
   "source": [
    "def get_crags_from_reg(url):\n",
    "    classes = ['name', 'routes']\n",
    "    df = pd.DataFrame(columns=['name', 'Sport', 'routes', 'url', 'lat', 'long'])\n",
    "    soup = get_soup(url)\n",
    "    crags = soup.find_all(\"div\", {\"class\": \"area\"})\n",
    "    \n",
    "    for i, crag in enumerate(crags):\n",
    "        a = crag.find('div', {\"class\": \"loc\"})\n",
    "        \n",
    "        try:\n",
    "            link = a.find('a', {\"class\": \"mappin located\"})['href']\n",
    "        except TypeError:\n",
    "            continue\n",
    "        \n",
    "        full_link = f'https://www.thecrag.com{link}'\n",
    "        guide = urljoin(full_link, 'guide')\n",
    "        lat_long = get_lat_long(guide)\n",
    "\n",
    "        df.loc[i, 'lat'] = lat_long[0]\n",
    "        df.loc[i, 'long'] = lat_long[1]\n",
    "        df.loc[i, 'Sport'] = 'Climbing'\n",
    "        df.loc[i, 'url'] = urljoin(full_link, ' ').strip()\n",
    "\n",
    "        for cls in classes:\n",
    "            df.loc[i, cls] = crag.find('div', {\"class\": cls}).text\n",
    "    df.routes = df['routes'].str.replace(',', '')\n",
    "    df = df.dropna()\n",
    "    df = df.astype({'name': str, 'Sport': str, 'routes': int, 'url': str, 'lat': float, 'long': float})\n",
    "    return df"
   ],
   "outputs": [],
   "metadata": {}
  },
  {
   "cell_type": "markdown",
   "source": [
    "Code to get all climbing areas in Australia:"
   ],
   "metadata": {}
  },
  {
   "cell_type": "code",
   "execution_count": 6,
   "source": [
    "\n",
    "df = pd.DataFrame()\n",
    "aus = 'https://www.thecrag.com/en/climbing/australia'\n",
    "#state = 'https://www.thecrag.com/en/climbing/australia/western-australia'\n",
    "states = get_urls(aus)\n",
    "for state in states:\n",
    "    regions = get_urls(state)\n",
    "    for crag in regions:\n",
    "        reg = get_crags_from_reg(crag)\n",
    "        df = pd.concat([df, reg], axis=0) if not df.empty else reg\n",
    "df.to_excel(\"Aus.xlsx\")"
   ],
   "outputs": [],
   "metadata": {}
  },
  {
   "cell_type": "code",
   "execution_count": 7,
   "source": [
    "df = df.reset_index(drop=True)"
   ],
   "outputs": [],
   "metadata": {}
  },
  {
   "cell_type": "code",
   "execution_count": 8,
   "source": [
    "df = pd.read_excel('Aus.xlsx')"
   ],
   "outputs": [],
   "metadata": {}
  },
  {
   "cell_type": "code",
   "execution_count": 9,
   "source": [
    "df"
   ],
   "outputs": [
    {
     "output_type": "execute_result",
     "data": {
      "text/plain": [
       "     Unnamed: 0                                        name     Sport  routes  \\\n",
       "0             1                  Arapiles / Djurite\\ncrag\\n  Climbing    3181   \n",
       "1             2  \\n\\n Warning\\nGrampians / Gariwerd\\ncrag\\n  Climbing    8751   \n",
       "2             3                             Mt Hope\\ncrag\\n  Climbing      64   \n",
       "3             4                         Mt Kooyoora\\ncrag\\n  Climbing      66   \n",
       "4             5                             Mt Cole\\ncrag\\n  Climbing      40   \n",
       "..          ...                                         ...       ...     ...   \n",
       "479           1                       Killiecrankie\\ncrag\\n  Climbing     106   \n",
       "480           2                       Mt Strzelecki\\narea\\n  Climbing       2   \n",
       "481           1                     2 tree buttress\\ncrag\\n  Climbing       4   \n",
       "482           2                       Red crab rock\\narea\\n  Climbing       3   \n",
       "483           1                  Lost world boulder\\narea\\n  Climbing       2   \n",
       "\n",
       "                                                   url        lat        long  \n",
       "0    https://www.thecrag.com/en/climbing/australia/... -36.756518  141.808342  \n",
       "1    https://www.thecrag.com/en/climbing/australia/... -37.155923  142.758590  \n",
       "2    https://www.thecrag.com/en/climbing/australia/... -35.989768  144.200941  \n",
       "3    https://www.thecrag.com/en/climbing/australia/... -36.585072  143.697828  \n",
       "4    https://www.thecrag.com/en/climbing/australia/... -37.226904  143.198301  \n",
       "..                                                 ...        ...         ...  \n",
       "479  https://www.thecrag.com/en/climbing/australia/... -39.799621  147.863068  \n",
       "480  https://www.thecrag.com/en/climbing/australia/... -40.203883  148.072358  \n",
       "481  https://www.thecrag.com/en/climbing/australia/... -10.433873  105.666822  \n",
       "482  https://www.thecrag.com/en/climbing/australia/... -10.434245  105.666504  \n",
       "483  https://www.thecrag.com/en/climbing/australia/... -10.535678  105.636355  \n",
       "\n",
       "[484 rows x 7 columns]"
      ],
      "text/html": [
       "<div>\n",
       "<style scoped>\n",
       "    .dataframe tbody tr th:only-of-type {\n",
       "        vertical-align: middle;\n",
       "    }\n",
       "\n",
       "    .dataframe tbody tr th {\n",
       "        vertical-align: top;\n",
       "    }\n",
       "\n",
       "    .dataframe thead th {\n",
       "        text-align: right;\n",
       "    }\n",
       "</style>\n",
       "<table border=\"1\" class=\"dataframe\">\n",
       "  <thead>\n",
       "    <tr style=\"text-align: right;\">\n",
       "      <th></th>\n",
       "      <th>Unnamed: 0</th>\n",
       "      <th>name</th>\n",
       "      <th>Sport</th>\n",
       "      <th>routes</th>\n",
       "      <th>url</th>\n",
       "      <th>lat</th>\n",
       "      <th>long</th>\n",
       "    </tr>\n",
       "  </thead>\n",
       "  <tbody>\n",
       "    <tr>\n",
       "      <th>0</th>\n",
       "      <td>1</td>\n",
       "      <td>Arapiles / Djurite\\ncrag\\n</td>\n",
       "      <td>Climbing</td>\n",
       "      <td>3181</td>\n",
       "      <td>https://www.thecrag.com/en/climbing/australia/...</td>\n",
       "      <td>-36.756518</td>\n",
       "      <td>141.808342</td>\n",
       "    </tr>\n",
       "    <tr>\n",
       "      <th>1</th>\n",
       "      <td>2</td>\n",
       "      <td>\\n\\n Warning\\nGrampians / Gariwerd\\ncrag\\n</td>\n",
       "      <td>Climbing</td>\n",
       "      <td>8751</td>\n",
       "      <td>https://www.thecrag.com/en/climbing/australia/...</td>\n",
       "      <td>-37.155923</td>\n",
       "      <td>142.758590</td>\n",
       "    </tr>\n",
       "    <tr>\n",
       "      <th>2</th>\n",
       "      <td>3</td>\n",
       "      <td>Mt Hope\\ncrag\\n</td>\n",
       "      <td>Climbing</td>\n",
       "      <td>64</td>\n",
       "      <td>https://www.thecrag.com/en/climbing/australia/...</td>\n",
       "      <td>-35.989768</td>\n",
       "      <td>144.200941</td>\n",
       "    </tr>\n",
       "    <tr>\n",
       "      <th>3</th>\n",
       "      <td>4</td>\n",
       "      <td>Mt Kooyoora\\ncrag\\n</td>\n",
       "      <td>Climbing</td>\n",
       "      <td>66</td>\n",
       "      <td>https://www.thecrag.com/en/climbing/australia/...</td>\n",
       "      <td>-36.585072</td>\n",
       "      <td>143.697828</td>\n",
       "    </tr>\n",
       "    <tr>\n",
       "      <th>4</th>\n",
       "      <td>5</td>\n",
       "      <td>Mt Cole\\ncrag\\n</td>\n",
       "      <td>Climbing</td>\n",
       "      <td>40</td>\n",
       "      <td>https://www.thecrag.com/en/climbing/australia/...</td>\n",
       "      <td>-37.226904</td>\n",
       "      <td>143.198301</td>\n",
       "    </tr>\n",
       "    <tr>\n",
       "      <th>...</th>\n",
       "      <td>...</td>\n",
       "      <td>...</td>\n",
       "      <td>...</td>\n",
       "      <td>...</td>\n",
       "      <td>...</td>\n",
       "      <td>...</td>\n",
       "      <td>...</td>\n",
       "    </tr>\n",
       "    <tr>\n",
       "      <th>479</th>\n",
       "      <td>1</td>\n",
       "      <td>Killiecrankie\\ncrag\\n</td>\n",
       "      <td>Climbing</td>\n",
       "      <td>106</td>\n",
       "      <td>https://www.thecrag.com/en/climbing/australia/...</td>\n",
       "      <td>-39.799621</td>\n",
       "      <td>147.863068</td>\n",
       "    </tr>\n",
       "    <tr>\n",
       "      <th>480</th>\n",
       "      <td>2</td>\n",
       "      <td>Mt Strzelecki\\narea\\n</td>\n",
       "      <td>Climbing</td>\n",
       "      <td>2</td>\n",
       "      <td>https://www.thecrag.com/en/climbing/australia/...</td>\n",
       "      <td>-40.203883</td>\n",
       "      <td>148.072358</td>\n",
       "    </tr>\n",
       "    <tr>\n",
       "      <th>481</th>\n",
       "      <td>1</td>\n",
       "      <td>2 tree buttress\\ncrag\\n</td>\n",
       "      <td>Climbing</td>\n",
       "      <td>4</td>\n",
       "      <td>https://www.thecrag.com/en/climbing/australia/...</td>\n",
       "      <td>-10.433873</td>\n",
       "      <td>105.666822</td>\n",
       "    </tr>\n",
       "    <tr>\n",
       "      <th>482</th>\n",
       "      <td>2</td>\n",
       "      <td>Red crab rock\\narea\\n</td>\n",
       "      <td>Climbing</td>\n",
       "      <td>3</td>\n",
       "      <td>https://www.thecrag.com/en/climbing/australia/...</td>\n",
       "      <td>-10.434245</td>\n",
       "      <td>105.666504</td>\n",
       "    </tr>\n",
       "    <tr>\n",
       "      <th>483</th>\n",
       "      <td>1</td>\n",
       "      <td>Lost world boulder\\narea\\n</td>\n",
       "      <td>Climbing</td>\n",
       "      <td>2</td>\n",
       "      <td>https://www.thecrag.com/en/climbing/australia/...</td>\n",
       "      <td>-10.535678</td>\n",
       "      <td>105.636355</td>\n",
       "    </tr>\n",
       "  </tbody>\n",
       "</table>\n",
       "<p>484 rows × 7 columns</p>\n",
       "</div>"
      ]
     },
     "metadata": {},
     "execution_count": 9
    }
   ],
   "metadata": {}
  },
  {
   "cell_type": "code",
   "execution_count": 3,
   "source": [
    "import os\n",
    "os.system('jupyter nbconvert --to html TheCragAPI.ipynb')"
   ],
   "outputs": [
    {
     "output_type": "execute_result",
     "data": {
      "text/plain": [
       "0"
      ]
     },
     "metadata": {},
     "execution_count": 3
    }
   ],
   "metadata": {}
  },
  {
   "cell_type": "code",
   "execution_count": null,
   "source": [],
   "outputs": [],
   "metadata": {}
  }
 ],
 "metadata": {
  "kernelspec": {
   "display_name": "Python 3",
   "language": "python",
   "name": "python3"
  },
  "language_info": {
   "codemirror_mode": {
    "name": "ipython",
    "version": 3
   },
   "file_extension": ".py",
   "mimetype": "text/x-python",
   "name": "python",
   "nbconvert_exporter": "python",
   "pygments_lexer": "ipython3",
   "version": "3.8.5"
  }
 },
 "nbformat": 4,
 "nbformat_minor": 4
}